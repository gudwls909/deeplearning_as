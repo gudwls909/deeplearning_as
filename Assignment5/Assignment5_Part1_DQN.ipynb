{
 "cells": [
  {
   "cell_type": "markdown",
   "metadata": {},
   "source": [
    "# M2177.003100 Deep Learning <br>Assignment #5 Part 1: Implementing and Training a Deep Q-Network"
   ]
  },
  {
   "cell_type": "markdown",
   "metadata": {},
   "source": [
    "Copyright (C) Data Science Laboratory, Seoul National University. This material is for educational uses only. Some contents are based on the material provided by other paper/book authors and may be copyrighted by them. Written by Hyemi Jang, November 2018"
   ]
  },
  {
   "cell_type": "markdown",
   "metadata": {},
   "source": [
    "In this notebook, you will implement one of famous reinforcement learning algorithm, Deep Q-Network (DQN) of DeepMind. <br>\n",
    "The goal here is to understand a basic form of DQN [1, 2] and learn how to use OpenAI Gym toolkit [3].<br>\n",
    "You need to follow the instructions to implement the given classes.\n",
    "\n",
    "1. [Play](#play) ( 50 points )\n",
    "\n",
    "**Note**: certain details are missing or ambiguous on purpose, in order to test your knowledge on the related materials. However, if you really feel that something essential is missing and cannot proceed to the next step, then contact the teaching staff with clear description of your problem.\n",
    "\n",
    "### Submitting your work:\n",
    "<font color=red>**DO NOT clear the final outputs**</font> so that TAs can grade both your code and results.  \n",
    "Once you have done **two parts of the assignment**, run the *CollectSubmission.sh* script with your **Team number** as input argument. <br>\n",
    "This will produce a zipped file called *[Your team number].tar.gz*. Please submit this file on ETL. &nbsp;&nbsp; (Usage: ./*CollectSubmission.sh* &nbsp; Team_#)\n",
    "\n",
    "### Some helpful references for assignment #4 :\n",
    "- [1] Mnih, Volodymyr, et al. \"Playing atari with deep reinforcement learning.\" arXiv preprint arXiv:1312.5602 (2013). [[pdf]](https://www.google.co.kr/url?sa=t&rct=j&q=&esrc=s&source=web&cd=3&cad=rja&uact=8&ved=0ahUKEwiI3aqPjavVAhXBkJQKHZsIDpgQFgg7MAI&url=https%3A%2F%2Fwww.cs.toronto.edu%2F~vmnih%2Fdocs%2Fdqn.pdf&usg=AFQjCNEd1AJoM72DeDpI_GBoPuv7NnVoFA)\n",
    "- [2] Mnih, Volodymyr, et al. \"Human-level control through deep reinforcement learning.\" Nature 518.7540 (2015): 529-533. [[pdf]](https://www.nature.com/nature/journal/v518/n7540/pdf/nature14236.pdf)\n",
    "- [3] OpenAI GYM website [[link]](https://gym.openai.com/envs) and [[git]](https://github.com/openai/gym)"
   ]
  },
  {
   "cell_type": "markdown",
   "metadata": {},
   "source": [
    "## 0. OpenAI Gym\n",
    "\n",
    "OpenAI Gym is a toolkit to support diverse environments for developing reinforcement learning algorithms. You can use the toolkit with Python as well as TensorFlow. Installation guide of OpenAI Gym is offered by [this link](https://github.com/openai/gym#installation) or just type the command \"pip install gym\" (as well as \"pip install gym[atari]\" for Part2). \n",
    "\n",
    "After you set up OpenAI Gym, you can use APIs of the toolkit by inserting <font color=red>import gym</font> into your code. In this assignment, you must build one of famous reinforcement learning algorithms whose agent can run on OpenAI Gym environments. Please check how to use APIs such as funcions interacting with environments in the followings."
   ]
  },
  {
   "cell_type": "code",
   "execution_count": 1,
   "metadata": {},
   "outputs": [],
   "source": [
    "#import matplotlib.pyplot as plt\n",
    "import tensorflow as tf\n",
    "import cv2 \n",
    "import gym\n",
    "import numpy as np\n",
    "import os"
   ]
  },
  {
   "cell_type": "code",
   "execution_count": 3,
   "metadata": {},
   "outputs": [
    {
     "name": "stdout",
     "output_type": "stream",
     "text": [
      "\u001b[33mWARN: gym.spaces.Box autodetected dtype as <class 'numpy.float32'>. Please provide explicit dtype.\u001b[0m\n",
      "2\n",
      "(4,)\n"
     ]
    }
   ],
   "source": [
    "# Make an environment instance of CartPole-v0.\n",
    "env = gym.make('CartPole-v0')\n",
    "\n",
    "# Before interacting with the environment and starting a new episode, you must reset the environment's state.\n",
    "state = env.reset()\n",
    "\n",
    "# Uncomment to show the screenshot of the environment (rendering game screens)\n",
    "# env.render() \n",
    "\n",
    "# You can check action space and state (observation) space.\n",
    "num_actions = env.action_space.n\n",
    "state_shape = env.observation_space.shape\n",
    "print(num_actions)\n",
    "print(state_shape)\n",
    "\n",
    "# \"step\" function performs agent's actions given current state of the environment and returns several values.\n",
    "# Input: action (numerical data)\n",
    "#        - env.action_space.sample(): select a random action among possible actions.\n",
    "# Output: next_state (numerical data, next state of the environment after performing given action)\n",
    "#         reward (numerical data, reward of given action given current state)\n",
    "#         terminal (boolean data, True means the agent is done in the environment)\n",
    "next_state, reward, terminal, info = env.step(env.action_space.sample())"
   ]
  },
  {
   "cell_type": "markdown",
   "metadata": {},
   "source": [
    "## 1. Implement a DQN agent\n",
    "## 1) Overview of implementation in the notebook\n",
    "\n",
    "The assignment is based on a method named by Deep Q-Network (DQN) [1,2]. You could find the details of DQN in the papers. The followings show briefly architecture of DQN and its training computation flow.\n",
    "\n",
    "- (Pink flow) Play an episode and save transition records of the episode into a replay memory.\n",
    "- (Green flow) Train DQN so that a loss function in the figure is minimized. The loss function is computed using main Q-network and Target Q-network. Target Q-network needs to be periodically updated by copying the main Q-network.\n",
    "- (Purple flow) Gradient can be autonomously computed by tensorflow engine, if you build a proper optimizer.\n",
    "\n",
    "![](image/architecture.png)\n",
    "\n",
    "There are major 4 components, each of which needs to be implemented in this notebook. The Agent class must have an instance(s) of each class (Environment, DQN, ReplayMemory).\n",
    "- Environment\n",
    "- DQN \n",
    "- ReplayMemory\n",
    "- Agent\n",
    "\n",
    "![](image/components.png)\n",
    "\n"
   ]
  },
  {
   "cell_type": "markdown",
   "metadata": {},
   "source": [
    "## 2) Design classes\n",
    "\n",
    "In the code cells, there are only names of functions which are used in TA's implementation and their brief explanations. <font color='green'>...</font> means that the functions need more arguments and <font color='green'>pass</font> means that you need to write more codes. The functions may be helpful when you do not know how to start the assignment. Of course, you could change the functions such as deleting/adding functions or extending/reducing roles of the classes, <font color='red'> just keeping the existence of the classes</font>.\n",
    "\n",
    "### Environment class"
   ]
  },
  {
   "cell_type": "code",
   "execution_count": null,
   "metadata": {},
   "outputs": [],
   "source": [
    "class Environment(object):\n",
    "    def __init__(self, args, ...):\n",
    "        pass\n",
    "    \n",
    "    def random_action(self):\n",
    "        # Return a random action.\n",
    "        pass\n",
    "    \n",
    "    def render_worker(self):\n",
    "        # If display in your option is true, do rendering. Otherwise, do not.\n",
    "        pass\n",
    "    \n",
    "    def new_episode(self):\n",
    "        # Sart a new episode and return the first state of the new episode.\n",
    "        pass\n",
    "    \n",
    "    def act(self, ...):\n",
    "        # Perform an action which is given by input argument and return the results of acting.\n",
    "        pass"
   ]
  },
  {
   "cell_type": "markdown",
   "metadata": {},
   "source": [
    "### ReplayMemory class"
   ]
  },
  {
   "cell_type": "code",
   "execution_count": null,
   "metadata": {
    "collapsed": true
   },
   "outputs": [],
   "source": [
    "class ReplayMemory(object):\n",
    "    def __init__(self, args, ...):\n",
    "        pass\n",
    "    \n",
    "    def add(self, ...):\n",
    "        # Add current_state, action, reward, terminal, (next_state which can be added by your choice). \n",
    "        pass\n",
    "    \n",
    "    def mini_batch(self):\n",
    "        # Return a mini_batch whose data are selected according to your sampling method. (such as uniform-random sampling in DQN papers)\n",
    "        pass\n",
    "        "
   ]
  },
  {
   "cell_type": "markdown",
   "metadata": {},
   "source": [
    "### DQN class"
   ]
  },
  {
   "cell_type": "code",
   "execution_count": null,
   "metadata": {
    "collapsed": true
   },
   "outputs": [],
   "source": [
    "class DQN(object):\n",
    "    def __init__(self, args, ...):\n",
    "        self.prediction_Q = self.build_network('pred')\n",
    "        self.target_Q = self.build_network('target')\n",
    "        pass\n",
    "    \n",
    "    def build_network(self, name):\n",
    "        # Make your a deep neural network\n",
    "        with tf.variable_scope(name):\n",
    "            pass\n",
    "        \n",
    "        copy_op = []\n",
    "        pred_vars = tf.get_collection(tf.GraphKeys.TRAINABLE_VARIABLES, scope='pred')\n",
    "        target_vars = tf.get_collection(tf.GraphKeys.TRAINABLE_VARIABLES, scope='target')\n",
    "        for pred_var, target_var in zip(pred_vars, target_vars):\n",
    "            copy_op.append(target_var.assign(pred_var.value()))\n",
    "    \n",
    "    def build_optimizer(self):\n",
    "        # Make your optimizer \n",
    "        pass\n",
    "    \n",
    "    def train_network(self):\n",
    "        # Train the prediction_Q network using a mini-batch sampled from the replay memory\n",
    "        pass\n",
    "    \n",
    "    def update_target_network(self):\n",
    "        self.sess.run(copy_op)\n",
    "    \n",
    "    def predict_Q(self, ...):\n",
    "        pass"
   ]
  },
  {
   "cell_type": "markdown",
   "metadata": {},
   "source": [
    "### Agent class"
   ]
  },
  {
   "cell_type": "code",
   "execution_count": null,
   "metadata": {
    "collapsed": true
   },
   "outputs": [],
   "source": [
    "import os # to save and load\n",
    "class Agent(object):\n",
    "    def __init__(self, args, ...):\n",
    "        self.saver = tf.train.Saver()\n",
    "        pass\n",
    "    \n",
    "    def select_action(self, ...):\n",
    "        # Select an action according ε-greedy. You need to use a random-number generating function and add a library if necessary.\n",
    "        pass\n",
    "    \n",
    "    def train(self):\n",
    "        # Train your agent which has the neural nets.\n",
    "        # Several hyper-parameters are determined by your choice (Options class in the below cell)\n",
    "        # Keep epsilon-greedy action selection in your mind \n",
    "        pass\n",
    "    \n",
    "    def play(self):\n",
    "        # Test your agent \n",
    "        # When performing test, you can show the environment's screen by rendering,\n",
    "        pass\n",
    "    \n",
    "    def save(self):\n",
    "        checkpoint_dir = 'cartpole'\n",
    "        if not os.path.exists(checkpoint_dir):\n",
    "            os.mkdir(checkpoint_dir)\n",
    "        self.saver.save(self.sess, os.path.join(checkpoint_dir, 'trained_agent'))\n",
    "        \n",
    "    def load(self):\n",
    "        checkpoint_dir = 'cartpole'\n",
    "        self.saver.restore(self.sess, os.path.join(checkpoint_dir, 'trained_agent'))"
   ]
  },
  {
   "cell_type": "markdown",
   "metadata": {},
   "source": [
    "## 2. Train your agent \n",
    "\n",
    "Now, you train an agent to play CartPole-v0. Options class is the collection of hyper-parameters that you can choice. Usage of Options class is not mandatory.<br>\n",
    "The maximum value of total reward which can be aquired from one episode is 200. \n",
    "<font color='red'>**You should show learning status such as the number of observed states and mean/max/min of rewards frequently (for instance, every 100 states).**</font>"
   ]
  },
  {
   "cell_type": "code",
   "execution_count": null,
   "metadata": {
    "collapsed": true
   },
   "outputs": [],
   "source": [
    "parser = argparse.ArgumentParser(description=\"CartPole\")\n",
    "parser.add_argument('--env-name', default='CartPole-v0', type=str,\n",
    "                    help=\"Environment\")\n",
    "\"\"\"\n",
    "You can add more arguments.\n",
    "for example, visualize, memory_size, batch_size, discount_factor, eps_max, eps_min, learning_rate, train_interval, copy_interval and so on\n",
    "\"\"\"\n",
    "\n",
    "with tf.Session(config=config) as sess:\n",
    "    args = parser.parse_args()\n",
    "    myAgent = Agent(args, sess) # It depends on your class implementation\n",
    "    myAgent.train()\n",
    "    myAgent.save()"
   ]
  },
  {
   "cell_type": "markdown",
   "metadata": {},
   "source": [
    "## <a name=\"play\"></a> 3. Test the trained agent ( 15 points )\n",
    "\n",
    "Now, we test your agent and calculate an average reward of 20 episodes.\n",
    "- 0 <= average reward < 50 : you can get 0 points\n",
    "- 50 <= average reward < 100 : you can get 10 points\n",
    "- 100 <= average reward < 190 : you can get 35 points\n",
    "- 190 <= average reward <= 200 : you can get 50 points"
   ]
  },
  {
   "cell_type": "code",
   "execution_count": null,
   "metadata": {
    "collapsed": true
   },
   "outputs": [],
   "source": [
    "config = tf.ConfigProto()\n",
    "# If you use a GPU, uncomment\n",
    "# os.environ[\"CUDA_VISIBLE_DEVICES\"] = '0'\n",
    "# config.log_device_placement = False\n",
    "# config.gpu_options.allow_growth = True\n",
    "with tf.Session(config=config) as sess:\n",
    "    args = parser.parse_args() # You set the option of test phase\n",
    "    myAgent = Agent(args, test) # It depends on your class implementation\n",
    "    myAgent.load()\n",
    "    rewards = []\n",
    "    for i in range(20):\n",
    "        r = myAgent.play() # play() returns the reward cumulated in one episode\n",
    "        rewards.append(r)\n",
    "    mean = np.mean(rewards)\n",
    "    print(rewards)\n",
    "    print(mean)"
   ]
  }
 ],
 "metadata": {
  "kernelspec": {
   "display_name": "Python 3",
   "language": "python",
   "name": "python3"
  },
  "language_info": {
   "codemirror_mode": {
    "name": "ipython",
    "version": 3
   },
   "file_extension": ".py",
   "mimetype": "text/x-python",
   "name": "python",
   "nbconvert_exporter": "python",
   "pygments_lexer": "ipython3",
   "version": "3.6.2"
  }
 },
 "nbformat": 4,
 "nbformat_minor": 2
}
